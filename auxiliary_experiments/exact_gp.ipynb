{
 "cells": [
  {
   "cell_type": "code",
   "execution_count": 2,
   "id": "90105b21",
   "metadata": {},
   "outputs": [],
   "source": [
    "import sklearn, matplotlib.pyplot as plt, numpy as np, os, time\n",
    "from sklearn.gaussian_process import GaussianProcessRegressor as GPR\n",
    "from scipy.stats import spearmanr\n",
    "from sklearn.gaussian_process.kernels import RBF, WhiteKernel, ConstantKernel\n",
    "\n",
    "if \"benchmark_evals\" not in os.getcwd():\n",
    "    os.chdir(os.path.join(\"..\", \"benchmark_evals\"))\n",
    "\n",
    "home = os.getcwd()"
   ]
  },
  {
   "cell_type": "code",
   "execution_count": 3,
   "id": "bf638a46",
   "metadata": {},
   "outputs": [],
   "source": [
    "def get_xy(target_dir):\n",
    "    os.chdir(target_dir)\n",
    "    xfiles = [f for f in os.listdir() if f.endswith(\"xvalues.npy\")]\n",
    "    yfiles = [f for f in os.listdir() if f.endswith(\"yvalues.npy\")]\n",
    "    xfiles.sort()\n",
    "    yfiles.sort()\n",
    "    x, y = [], []\n",
    "    for i, xfile in enumerate(xfiles):\n",
    "        x.append(np.load(xfile).astype(np.float32))\n",
    "        y.append(np.load(yfiles[i]))\n",
    "    \n",
    "    x = np.vstack(x)\n",
    "    y = np.concatenate(y)\n",
    "    return x, y"
   ]
  },
  {
   "cell_type": "code",
   "execution_count": null,
   "id": "4578cc1a",
   "metadata": {},
   "outputs": [],
   "source": []
  },
  {
   "cell_type": "code",
   "execution_count": 4,
   "id": "0082c520",
   "metadata": {},
   "outputs": [
    {
     "name": "stdout",
     "output_type": "stream",
     "text": [
      "4.224696636199951\n"
     ]
    },
    {
     "name": "stderr",
     "output_type": "stream",
     "text": [
      "/home/jlparkinson1/Documents/gp_proteins/venv_testing/lib/python3.9/site-packages/sklearn/gaussian_process/kernels.py:420: ConvergenceWarning: The optimal value found for dimension 0 of parameter k2__noise_level is close to the specified lower bound 1e-05. Decreasing the bound and calling fit again may find a better value.\n",
      "  warnings.warn(\n"
     ]
    },
    {
     "data": {
      "text/plain": [
       "SpearmanrResult(correlation=0.634841411122661, pvalue=0.0)"
      ]
     },
     "execution_count": 4,
     "metadata": {},
     "output_type": "execute_result"
    }
   ],
   "source": [
    "x, y = get_xy(os.path.join(home, \"gb1_eval\", \"onehot\", \"two_vs_rest\", \"train\"))\n",
    "testx, testy = get_xy(os.path.join(home, \"gb1_eval\", \"onehot\", \"two_vs_rest\", \"test\"))\n",
    "kernel = RBF() * ConstantKernel() + WhiteKernel()\n",
    "wclock = time.time()\n",
    "model = GPR(kernel=kernel, random_state=123, n_restarts_optimizer=10).fit(x,y)\n",
    "print(time.time() - wclock)\n",
    "preds = model.predict(testx)\n",
    "spearmanr(preds, testy)"
   ]
  },
  {
   "cell_type": "code",
   "execution_count": 4,
   "id": "8c7decbf",
   "metadata": {},
   "outputs": [
    {
     "name": "stderr",
     "output_type": "stream",
     "text": [
      "/home/jlparkinson1/Documents/gp_proteins/venv_testing/lib/python3.9/site-packages/sklearn/gaussian_process/kernels.py:420: ConvergenceWarning: The optimal value found for dimension 0 of parameter k2__noise_level is close to the specified lower bound 1e-05. Decreasing the bound and calling fit again may find a better value.\n",
      "  warnings.warn(\n"
     ]
    },
    {
     "name": "stdout",
     "output_type": "stream",
     "text": [
      "572.743899345398\n"
     ]
    },
    {
     "data": {
      "text/plain": [
       "SpearmanrResult(correlation=0.836091045184536, pvalue=0.0)"
      ]
     },
     "execution_count": 4,
     "metadata": {},
     "output_type": "execute_result"
    }
   ],
   "source": [
    "x, y = get_xy(os.path.join(home, \"gb1_eval\", \"onehot\", \"three_vs_rest\", \"train\"))\n",
    "testx, testy = get_xy(os.path.join(home, \"gb1_eval\", \"onehot\", \"three_vs_rest\", \"test\"))\n",
    "kernel = RBF() * ConstantKernel() + WhiteKernel()\n",
    "wclock = time.time()\n",
    "model = GPR(kernel=kernel, random_state=123, n_restarts_optimizer=5).fit(x,y)\n",
    "print(time.time() - wclock)\n",
    "preds = model.predict(testx)\n",
    "spearmanr(preds, testy)"
   ]
  },
  {
   "cell_type": "code",
   "execution_count": null,
   "id": "6583ce84",
   "metadata": {},
   "outputs": [],
   "source": []
  }
 ],
 "metadata": {
  "kernelspec": {
   "display_name": "Python 3 (ipykernel)",
   "language": "python",
   "name": "python3"
  },
  "language_info": {
   "codemirror_mode": {
    "name": "ipython",
    "version": 3
   },
   "file_extension": ".py",
   "mimetype": "text/x-python",
   "name": "python",
   "nbconvert_exporter": "python",
   "pygments_lexer": "ipython3",
   "version": "3.9.10"
  }
 },
 "nbformat": 4,
 "nbformat_minor": 5
}
