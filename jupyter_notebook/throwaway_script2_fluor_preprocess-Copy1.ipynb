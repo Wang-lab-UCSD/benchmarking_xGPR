{
 "cells": [
  {
   "cell_type": "code",
   "execution_count": 1,
   "id": "0a5cf46d",
   "metadata": {},
   "outputs": [],
   "source": [
    "import numpy as np, matplotlib.pyplot as plt\n",
    "import os\n",
    "import Bio\n",
    "from Bio import SeqIO"
   ]
  },
  {
   "cell_type": "code",
   "execution_count": 2,
   "id": "47f4dd93",
   "metadata": {},
   "outputs": [],
   "source": [
    "os.chdir(\"/home/jlparkinson1/Documents/gp_proteins/_benchmarking_xGPR/benchmark_evals/fluorescence_eval/raw_data/\")\n",
    "with open(\"wt.fasta\", \"r\") as f1:\n",
    "    true_wt = [s for s in SeqIO.parse(f1, \"fasta\")][0]"
   ]
  },
  {
   "cell_type": "code",
   "execution_count": 3,
   "id": "ad84f044",
   "metadata": {},
   "outputs": [],
   "source": [
    "os.chdir(\"/home/jlparkinson1/Documents/gp_proteins/_benchmarking_xGPR/benchmark_evals/fluorescence_eval/raw_data/2b3q_a/a3m\")"
   ]
  },
  {
   "cell_type": "code",
   "execution_count": 4,
   "id": "39f88352",
   "metadata": {},
   "outputs": [
    {
     "name": "stdout",
     "output_type": "stream",
     "text": [
      "MSKGEELFTGVVPILVELDGDVNGHKFSVSGEGEGDATYGKLTLKFICTTGKLPVPWPTLVTTL--XVQCFSRYPDHMKRHDFFKSAMPEGYVQERTISFKDDGNYKTRAEVKFEGDTLVNRIELKGIDFKEDGNILGHKLEYNYNSHNVYITADKQKNGIKANFKIRHNIEDGSVQLADHYQQNTPIGDGPVLLPDNHYLSTQSALSKDPNEKRDHMVLLEFVTAAGITHGMDELYKGSHHHHHH\n"
     ]
    }
   ],
   "source": [
    "with open(\"bfd_uniclust_hits.a3m\", \"r\") as f1:\n",
    "    seqs = [s for s in SeqIO.parse(f1, \"fasta\")]\n",
    "    \n",
    "template = str(seqs[0].seq)\n",
    "template = template[:64] + \"--\" + template[64:]\n",
    "print(template)"
   ]
  },
  {
   "cell_type": "code",
   "execution_count": 5,
   "id": "e292c47a",
   "metadata": {},
   "outputs": [],
   "source": [
    "clean_seqs = []\n",
    "for seq in seqs:\n",
    "    counter, n_added = 0, 0\n",
    "    clean_seq = []\n",
    "    for letter in str(seq.seq):\n",
    "        if letter.upper() == letter:\n",
    "            clean_seq.append(letter)\n",
    "            counter += 1\n",
    "        elif counter == 64 and n_added < 2:\n",
    "            clean_seq.append(letter.upper())\n",
    "            n_added += 1\n",
    "    if n_added == 1:\n",
    "        clean_seq.insert(65, \"-\")\n",
    "    if len(clean_seq) == 244 and n_added == 0:\n",
    "        clean_seq.insert(64, \"-\")\n",
    "        clean_seq.insert(64, \"-\")\n",
    "    clean_seqs.append(\"\".join(clean_seq))"
   ]
  },
  {
   "cell_type": "code",
   "execution_count": 6,
   "id": "a89f5bd8",
   "metadata": {},
   "outputs": [],
   "source": [
    "aas = ['A', 'R', 'N', 'D', 'C', 'Q', 'E', 'G', 'H', 'I',\n",
    "       'L', 'K', 'M', 'F', 'P', 'S', 'T', 'W', 'Y', 'V', '-']"
   ]
  },
  {
   "cell_type": "code",
   "execution_count": 8,
   "id": "1c12dd03",
   "metadata": {},
   "outputs": [],
   "source": [
    "msa = np.zeros((237,21))\n",
    "\n",
    "for clean_seq in clean_seqs:\n",
    "    for i, letter in enumerate(clean_seq[1:-8]):\n",
    "        if letter in [\"B\", \"X\", \"Z\"]:\n",
    "            continue\n",
    "        msa[i,aas.index(letter)] += 1"
   ]
  },
  {
   "cell_type": "code",
   "execution_count": 15,
   "id": "e7c0a58e",
   "metadata": {},
   "outputs": [],
   "source": [
    "pssms = []\n",
    "\n",
    "for i in range(msa.shape[0]):\n",
    "    pssm = np.zeros((21,21))\n",
    "    n_pairs = msa[i,:].sum()\n",
    "    n_pairs = n_pairs * (n_pairs - 1) / 2\n",
    "\n",
    "    for j in range(msa.shape[1]):\n",
    "        pssm[j,j] = 0\n",
    "        for k in range(j+1, 20):\n",
    "            pssm[j,k] = msa[i,j] * msa[i,k] / n_pairs\n",
    "            pssm[k,j] = pssm[j,k]\n",
    "    #pssm[20,20] = 1\n",
    "\n",
    "\n",
    "    #pssm = (pssm - pssm.min()) / (pssm.max() - pssm.min())\n",
    "    #try:\n",
    "    #    pssm = np.linalg.cholesky(pssm)\n",
    "    #except:\n",
    "    #    import pdb\n",
    "    #    pdb.set_trace()\n",
    "    pssms.append(pssm)"
   ]
  },
  {
   "cell_type": "code",
   "execution_count": 16,
   "id": "c28d174f",
   "metadata": {},
   "outputs": [],
   "source": [
    "pssms = np.stack(pssms)"
   ]
  },
  {
   "cell_type": "code",
   "execution_count": 18,
   "id": "154fd007",
   "metadata": {},
   "outputs": [
    {
     "data": {
      "text/plain": [
       "58374"
      ]
     },
     "execution_count": 18,
     "metadata": {},
     "output_type": "execute_result"
    }
   ],
   "source": [
    "pssms.argmax()"
   ]
  },
  {
   "cell_type": "code",
   "execution_count": 19,
   "id": "d4dddea8",
   "metadata": {},
   "outputs": [],
   "source": [
    "prob_msa = msa.copy()\n",
    "prob_msa = (prob_msa[:,:-1] + 1) / (prob_msa[:,:-1].sum(axis=1) + 21)[:,None]"
   ]
  },
  {
   "cell_type": "code",
   "execution_count": 20,
   "id": "4000bf5e",
   "metadata": {},
   "outputs": [
    {
     "data": {
      "text/plain": [
       "<BarContainer object of 237 artists>"
      ]
     },
     "execution_count": 20,
     "metadata": {},
     "output_type": "execute_result"
    },
    {
     "data": {
      "image/png": "[encoded data removed]",
      "text/plain": [
       "<Figure size 432x288 with 1 Axes>"
      ]
     },
     "metadata": {
      "needs_background": "light"
     },
     "output_type": "display_data"
    }
   ],
   "source": [
    "entropy = -np.sum(prob_msa * np.log(prob_msa), axis=1)\n",
    "#entropy = 2.99573 - entropy\n",
    "plt.bar(np.arange(entropy.shape[0]), entropy)"
   ]
  },
  {
   "cell_type": "code",
   "execution_count": 21,
   "id": "3f00d321",
   "metadata": {},
   "outputs": [
    {
     "data": {
      "text/plain": [
       "118"
      ]
     },
     "execution_count": 21,
     "metadata": {},
     "output_type": "execute_result"
    }
   ],
   "source": [
    "entropy.argmax()"
   ]
  },
  {
   "cell_type": "code",
   "execution_count": 24,
   "id": "0a03ab30",
   "metadata": {},
   "outputs": [],
   "source": [
    "wow = np.sort(msa, axis=1)"
   ]
  },
  {
   "cell_type": "code",
   "execution_count": 26,
   "id": "fdb80a63",
   "metadata": {},
   "outputs": [
    {
     "data": {
      "text/plain": [
       "31"
      ]
     },
     "execution_count": 26,
     "metadata": {},
     "output_type": "execute_result"
    }
   ],
   "source": [
    "wow[:,-2].argmax()"
   ]
  },
  {
   "cell_type": "code",
   "execution_count": 27,
   "id": "910c98c4",
   "metadata": {},
   "outputs": [
    {
     "data": {
      "text/plain": [
       "array([ 21.,  38.,   2.,   9.,   3.,  19.,   9., 793.,   2.,   6.,  13.,\n",
       "         6.,   3.,   7.,  12.,  22.,   8.,   4.,   1.,  27., 750.])"
      ]
     },
     "execution_count": 27,
     "metadata": {},
     "output_type": "execute_result"
    }
   ],
   "source": [
    "msa[31,:]"
   ]
  },
  {
   "cell_type": "code",
   "execution_count": 29,
   "id": "370ade76",
   "metadata": {},
   "outputs": [
    {
     "data": {
      "text/plain": [
       "0.3864183453693146"
      ]
     },
     "execution_count": 29,
     "metadata": {},
     "output_type": "execute_result"
    }
   ],
   "source": [
    "ntot = msa[31,:].sum()\n",
    "n_pairs = ntot * (ntot - 1) / 2\n",
    "\n",
    "750 * 793 / n_pairs"
   ]
  },
  {
   "cell_type": "code",
   "execution_count": 32,
   "id": "402ce06e",
   "metadata": {},
   "outputs": [
    {
     "data": {
      "text/plain": [
       "1.893939393939394"
      ]
     },
     "execution_count": 32,
     "metadata": {},
     "output_type": "execute_result"
    }
   ],
   "source": [
    "(750*793)/((793*792)/2)"
   ]
  },
  {
   "cell_type": "code",
   "execution_count": null,
   "id": "6b49ca41",
   "metadata": {},
   "outputs": [],
   "source": []
  }
 ],
 "metadata": {
  "kernelspec": {
   "display_name": "Python 3 (ipykernel)",
   "language": "python",
   "name": "python3"
  },
  "language_info": {
   "codemirror_mode": {
    "name": "ipython",
    "version": 3
   },
   "file_extension": ".py",
   "mimetype": "text/x-python",
   "name": "python",
   "nbconvert_exporter": "python",
   "pygments_lexer": "ipython3",
   "version": "3.9.10"
  }
 },
 "nbformat": 4,
 "nbformat_minor": 5
}
