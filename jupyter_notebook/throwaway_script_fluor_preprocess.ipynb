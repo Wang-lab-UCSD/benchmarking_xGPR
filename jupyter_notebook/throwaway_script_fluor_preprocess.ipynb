{
 "cells": [
  {
   "cell_type": "code",
   "execution_count": 1,
   "id": "0a5cf46d",
   "metadata": {},
   "outputs": [],
   "source": [
    "import numpy as np, matplotlib.pyplot as plt\n",
    "import os\n",
    "import Bio\n",
    "from Bio import SeqIO"
   ]
  },
  {
   "cell_type": "code",
   "execution_count": 12,
   "id": "47f4dd93",
   "metadata": {},
   "outputs": [],
   "source": [
    "os.chdir(\"/home/jlparkinson1/Documents/gp_proteins/_benchmarking_xGPR/benchmark_evals/fluorescence_eval/raw_data/\")\n",
    "with open(\"wt.fasta\", \"r\") as f1:\n",
    "    true_wt = [s for s in SeqIO.parse(f1, \"fasta\")][0]"
   ]
  },
  {
   "cell_type": "code",
   "execution_count": 28,
   "id": "ad84f044",
   "metadata": {},
   "outputs": [],
   "source": [
    "os.chdir(\"/home/jlparkinson1/Documents/gp_proteins/_benchmarking_xGPR/benchmark_evals/fluorescence_eval/raw_data/2b3q_a/a3m\")"
   ]
  },
  {
   "cell_type": "code",
   "execution_count": 30,
   "id": "39f88352",
   "metadata": {},
   "outputs": [
    {
     "name": "stdout",
     "output_type": "stream",
     "text": [
      "MSKGEELFTGVVPILVELDGDVNGHKFSVSGEGEGDATYGKLTLKFICTTGKLPVPWPTLVTTL--XVQCFSRYPDHMKRHDFFKSAMPEGYVQERTISFKDDGNYKTRAEVKFEGDTLVNRIELKGIDFKEDGNILGHKLEYNYNSHNVYITADKQKNGIKANFKIRHNIEDGSVQLADHYQQNTPIGDGPVLLPDNHYLSTQSALSKDPNEKRDHMVLLEFVTAAGITHGMDELYKGSHHHHHH\n"
     ]
    }
   ],
   "source": [
    "with open(\"bfd_uniclust_hits.a3m\", \"r\") as f1:\n",
    "    seqs = [s for s in SeqIO.parse(f1, \"fasta\")]\n",
    "    \n",
    "template = str(seqs[0].seq)\n",
    "template = template[:64] + \"--\" + template[64:]\n",
    "print(template)"
   ]
  },
  {
   "cell_type": "code",
   "execution_count": 69,
   "id": "e292c47a",
   "metadata": {},
   "outputs": [],
   "source": [
    "clean_seqs = []\n",
    "for seq in seqs:\n",
    "    counter, n_added = 0, 0\n",
    "    clean_seq = []\n",
    "    for letter in str(seq.seq):\n",
    "        if letter.upper() == letter:\n",
    "            clean_seq.append(letter)\n",
    "            counter += 1\n",
    "        elif counter == 64 and n_added < 2:\n",
    "            clean_seq.append(letter.upper())\n",
    "            n_added += 1\n",
    "    if n_added == 1:\n",
    "        clean_seq.insert(65, \"-\")\n",
    "    if len(clean_seq) == 244 and n_added == 0:\n",
    "        clean_seq.insert(64, \"-\")\n",
    "        clean_seq.insert(64, \"-\")\n",
    "    clean_seqs.append(\"\".join(clean_seq))"
   ]
  },
  {
   "cell_type": "code",
   "execution_count": 70,
   "id": "b8692248",
   "metadata": {},
   "outputs": [
    {
     "data": {
      "text/plain": [
       "array([246])"
      ]
     },
     "execution_count": 70,
     "metadata": {},
     "output_type": "execute_result"
    }
   ],
   "source": [
    "np.unique([len(s) for s in clean_seqs])"
   ]
  },
  {
   "cell_type": "code",
   "execution_count": 73,
   "id": "aefc675e",
   "metadata": {},
   "outputs": [
    {
     "data": {
      "text/plain": [
       "False"
      ]
     },
     "execution_count": 73,
     "metadata": {},
     "output_type": "execute_result"
    }
   ],
   "source": [
    "str(true_wt.seq) == clean_seqs[0][:-8]"
   ]
  },
  {
   "cell_type": "code",
   "execution_count": 74,
   "id": "b1945f9a",
   "metadata": {},
   "outputs": [
    {
     "data": {
      "text/plain": [
       "'MSKGEELFTGVVPILVELDGDVNGHKFSVSGEGEGDATYGKLTLKFICTTGKLPVPWPTLVTTL--XVQCFSRYPDHMKRHDFFKSAMPEGYVQERTISFKDDGNYKTRAEVKFEGDTLVNRIELKGIDFKEDGNILGHKLEYNYNSHNVYITADKQKNGIKANFKIRHNIEDGSVQLADHYQQNTPIGDGPVLLPDNHYLSTQSALSKDPNEKRDHMVLLEFVTAAGITHGMDELYK'"
      ]
     },
     "execution_count": 74,
     "metadata": {},
     "output_type": "execute_result"
    }
   ],
   "source": [
    "clean_seqs[0][:-8]"
   ]
  },
  {
   "cell_type": "code",
   "execution_count": 76,
   "id": "42eb6b34",
   "metadata": {},
   "outputs": [
    {
     "data": {
      "text/plain": [
       "'MSKGEELFTGVVPILVELDGDVNGHKFSVSGEGEGDATYGKLTLKFICTTGKLPVPWPTLVTTFSYGVQCFSRYPDHMKQHDFFKSAMPEGYVQERTIFFKDDGNYKTRAEVKFEGDTLVNRIELKGIDFKEDGNILGHKLEYNYNSHNVYIMADKQKNGIKVNFKIRHNIEDGSVQLADHYQQNTPIGDGPVLLPDNHYLSTQSALSKDPNEKRDHMVLLEFVTAAGITHGMDELYK'"
      ]
     },
     "execution_count": 76,
     "metadata": {},
     "output_type": "execute_result"
    }
   ],
   "source": [
    "str(true_wt.seq)"
   ]
  },
  {
   "cell_type": "code",
   "execution_count": 15,
   "id": "7abad82e",
   "metadata": {},
   "outputs": [],
   "source": [
    "with open(\"fluor_fasta.fasta\", \"r\") as f1:\n",
    "    ms_seq = [f for f in SeqIO.parse(f1, \"fasta\")]\n",
    "    \n",
    "ms_seq = str(ms_seq[0].seq)\n",
    "\n",
    "msa = np.zeros((len(ms_seq), 21))"
   ]
  },
  {
   "cell_type": "code",
   "execution_count": 37,
   "id": "a89f5bd8",
   "metadata": {},
   "outputs": [],
   "source": [
    "aas = ['A', 'R', 'N', 'D', 'C', 'Q', 'E', 'G', 'H', 'I',\n",
    "       'L', 'K', 'M', 'F', 'P', 'S', 'T', 'W', 'Y', 'V', '-']\n",
    "\n",
    "def construct_block(block_seqs, msa_data, start_position):\n",
    "    query_seq = block_seqs[0]\n",
    "    retrieved_seqs = block_seqs[1]\n",
    "    valid_positions = [i for i in range(len(query_seq)) if query_seq[i] != \"-\"]\n",
    "    for seq in retrieved_seqs:\n",
    "        if len(seq) != len(query_seq):\n",
    "            import pdb\n",
    "            pdb.set_trace()\n",
    "            raise ValueError(\"Sequence of wrong length!\")\n",
    "        for i, valid_position in enumerate(valid_positions):\n",
    "            try:\n",
    "                msa_data[start_position+i, aas.index(seq[valid_position])] += 1\n",
    "            except:\n",
    "                import pdb\n",
    "                pdb.set_trace()\n",
    "    return start_position + len(valid_positions)"
   ]
  },
  {
   "cell_type": "code",
   "execution_count": 39,
   "id": "1c12dd03",
   "metadata": {},
   "outputs": [
    {
     "name": "stdout",
     "output_type": "stream",
     "text": [
      "Block complete\n",
      "Block complete\n",
      "Block complete\n",
      "Block complete\n",
      "Block complete\n",
      "Block complete\n",
      "Block complete\n"
     ]
    }
   ],
   "source": [
    "block = [\"\",[]]\n",
    "start_position = 0\n",
    "\n",
    "for line in lines[6:]:\n",
    "    if len(line) < 3:\n",
    "        continue\n",
    "    if line.startswith(\"#=\") or line.startswith(\"//\"):\n",
    "        continue\n",
    "    seq = line.strip().split()[-1]\n",
    "    if line.startswith(\"sp|P42212|GFP_AEQVI\"):\n",
    "        if len(block[1]) > 0:\n",
    "            start_position = construct_block(block, msa, start_position)\n",
    "            print(\"Block complete\")\n",
    "        block = [seq,[]]\n",
    "    else:\n",
    "        clean_seq = seq.replace(\"X\", \"-\")\n",
    "        clean_seq = clean_seq.replace(\"B\", \"-\")\n",
    "        clean_seq = clean_seq.replace(\"Z\", \"-\")\n",
    "        block[1].append(clean_seq)\n",
    "\n",
    "if len(block[1]) > 0:\n",
    "    start_position = construct_block(block, msa, start_position)"
   ]
  },
  {
   "cell_type": "code",
   "execution_count": 47,
   "id": "b3f83e28",
   "metadata": {},
   "outputs": [],
   "source": [
    "np.save(\"raw_msa.npy\", msa)"
   ]
  },
  {
   "cell_type": "code",
   "execution_count": 49,
   "id": "f4971669",
   "metadata": {},
   "outputs": [],
   "source": [
    "prob_msa = msa.copy()\n",
    "prob_msa = (prob_msa + 1) / (prob_msa.sum(axis=1) + 21)[:,None]"
   ]
  },
  {
   "cell_type": "code",
   "execution_count": 53,
   "id": "75450b31",
   "metadata": {},
   "outputs": [],
   "source": [
    "np.save(\"prob_msa.npy\", prob_msa)"
   ]
  },
  {
   "cell_type": "code",
   "execution_count": 18,
   "id": "0d2c6d00",
   "metadata": {},
   "outputs": [],
   "source": [
    "raw_checking = np.load(\"raw_msa.npy\")\n",
    "checking = np.load(\"prob_msa.npy\")"
   ]
  },
  {
   "cell_type": "code",
   "execution_count": 17,
   "id": "a241e87a",
   "metadata": {},
   "outputs": [
    {
     "data": {
      "text/plain": [
       "<BarContainer object of 238 artists>"
      ]
     },
     "execution_count": 17,
     "metadata": {},
     "output_type": "execute_result"
    },
    {
     "data": {
      "image/png": "[encoded data removed]",
      "text/plain": [
       "<Figure size 432x288 with 1 Axes>"
      ]
     },
     "metadata": {
      "needs_background": "light"
     },
     "output_type": "display_data"
    }
   ],
   "source": [
    "wut = checking.max(axis=1)\n",
    "plt.bar(np.arange(wut.shape[0]), wut)"
   ]
  },
  {
   "cell_type": "code",
   "execution_count": 19,
   "id": "4000bf5e",
   "metadata": {},
   "outputs": [
    {
     "data": {
      "text/plain": [
       "array([[0.000000e+00, 0.000000e+00, 0.000000e+00, ..., 0.000000e+00,\n",
       "        0.000000e+00, 9.646056e+06],\n",
       "       [1.357800e+04, 3.414000e+03, 3.041400e+04, ..., 1.820000e+02,\n",
       "        1.040000e+02, 8.375365e+06],\n",
       "       [5.617100e+04, 6.859100e+04, 7.870900e+04, ..., 1.003950e+05,\n",
       "        1.189060e+05, 5.399705e+06],\n",
       "       ...,\n",
       "       [0.000000e+00, 2.000000e+00, 0.000000e+00, ..., 2.000000e+00,\n",
       "        0.000000e+00, 2.904126e+06],\n",
       "       [0.000000e+00, 0.000000e+00, 0.000000e+00, ..., 1.760000e+02,\n",
       "        0.000000e+00, 2.904134e+06],\n",
       "       [0.000000e+00, 2.000000e+00, 0.000000e+00, ..., 0.000000e+00,\n",
       "        0.000000e+00, 2.904140e+06]])"
      ]
     },
     "execution_count": 19,
     "metadata": {},
     "output_type": "execute_result"
    }
   ],
   "source": [
    "raw_checking"
   ]
  },
  {
   "cell_type": "code",
   "execution_count": null,
   "id": "7a14305a",
   "metadata": {},
   "outputs": [],
   "source": []
  }
 ],
 "metadata": {
  "kernelspec": {
   "display_name": "Python 3 (ipykernel)",
   "language": "python",
   "name": "python3"
  },
  "language_info": {
   "codemirror_mode": {
    "name": "ipython",
    "version": 3
   },
   "file_extension": ".py",
   "mimetype": "text/x-python",
   "name": "python",
   "nbconvert_exporter": "python",
   "pygments_lexer": "ipython3",
   "version": "3.9.10"
  }
 },
 "nbformat": 4,
 "nbformat_minor": 5
}
